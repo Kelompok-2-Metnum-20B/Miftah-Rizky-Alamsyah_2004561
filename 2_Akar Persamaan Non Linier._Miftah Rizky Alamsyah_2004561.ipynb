{
 "cells": [
  {
   "cell_type": "markdown",
   "metadata": {
    "id": "Tlb0XvJxS_oW"
   },
   "source": [
    "## **Akar Persamaan Non-Linier**\n",
    "Berikut ini merupakan fungsi dasar dari metode yang dapat digunakan untuk mencari akar Persamaan non-Linier.\n",
    "Terdapat dua metode yakni Metode Bagi Dua dan Metode Newton-Raphson"
   ]
  },
  {
   "cell_type": "markdown",
   "metadata": {
    "id": "8zXDT3F6UTm8"
   },
   "source": [
    "**Pencarian Akar dengan Library**\n",
    "\n",
    "Contoh Fungsi: f(x) = cos(x)-x"
   ]
  },
  {
   "cell_type": "code",
   "execution_count": 12,
   "metadata": {
    "colab": {
     "base_uri": "https://localhost:8080/"
    },
    "id": "gMnlEqjjUnAa",
    "outputId": "dba31922-a0e9-40d4-b136-dad342f9b7fa"
   },
   "outputs": [
    {
     "name": "stdout",
     "output_type": "stream",
     "text": [
      "r = [0.73908513]\n",
      "result= [2.55351296e-15]\n"
     ]
    }
   ],
   "source": [
    "import numpy as np\n",
    "from scipy import optimize\n",
    "f = lambda x: np.cos(x) - x\n",
    "r = optimize.fsolve(f, -6)\n",
    "print(\"r =\",r)\n",
    "# Verify the solution is a root\n",
    "result = f(r)\n",
    "print(\"result=\", result)"
   ]
  },
  {
   "cell_type": "markdown",
   "metadata": {
    "id": "ySxrsdzGTn0Z"
   },
   "source": [
    "**Metode Bagi Dua**"
   ]
  },
  {
   "cell_type": "code",
   "execution_count": null,
   "metadata": {
    "id": "j7lAxfNeS9M0"
   },
   "outputs": [],
   "source": [
    "import numpy as np #panggil library\n",
    "def my_bisection(f, a, b, e):\n",
    "  if np.sign(f(a)) == np.sign(f(b)):\n",
    "    raise Exception('Tidak ada akar pada interval a dan b')\n",
    "  m = (a + b)/2\n",
    "  if np.abs(f(m)) < e:\n",
    "    return m\n",
    "  elif np.sign(f(a)) == np.sign(f(m)):\n",
    "    return my_bisection(f, m, b, e)\n",
    "  elif np.sign(f(b)) == np.sign(f(m)):\n",
    "    return my_bisection(f, a, m, e)"
   ]
  },
  {
   "cell_type": "markdown",
   "metadata": {
    "id": "QK5X5eINXZln"
   },
   "source": [
    "**Contoh Pencarian Akar dengan Metode Bagi Dua**\n",
    "\n",
    "f(x)=x^2 - 2"
   ]
  },
  {
   "cell_type": "code",
   "execution_count": 51,
   "metadata": {
    "colab": {
     "base_uri": "https://localhost:8080/"
    },
    "id": "eJr_l7e2XyM0",
    "outputId": "9f0a0bf6-a59a-4ae7-fc1c-e4c436d940ea"
   },
   "outputs": [
    {
     "name": "stdout",
     "output_type": "stream",
     "text": [
      "r1 = 1.375\n",
      "f(r1) = -0.109375\n",
      "r01 = 1.4140625\n",
      "f(r01) = -0.00042724609375\n"
     ]
    }
   ],
   "source": [
    "import numpy as np #panggil library\n",
    "f = lambda x: x**2-2\n",
    "\n",
    "r1 = my_bisection(f, 0, 2, 0.2)\n",
    "print(\"r1 =\", r1)\n",
    "print(\"f(r1) =\", f(r1))\n",
    "\n",
    "r01 = my_bisection(f, 0, 4, 0.01)\n",
    "print(\"r01 =\", r01)\n",
    "print(\"f(r01) =\", f(r01))"
   ]
  },
  {
   "cell_type": "code",
   "execution_count": 34,
   "metadata": {
    "colab": {
     "base_uri": "https://localhost:8080/",
     "height": 322
    },
    "id": "wXEmWDL3Yh1R",
    "outputId": "66a66430-8175-4210-f0f5-180d79f1eb76"
   },
   "outputs": [
    {
     "data": {
      "text/plain": [
       "1.4140625"
      ]
     },
     "execution_count": 38,
     "metadata": {},
     "output_type": "execute_result"
    }
   ],
   "source": [
    "import numpy as np #panggil library\n",
    "f = lambda x: x**2-2\n",
    "my_bisection(f, 0, 4, 0.01)"
   ]
  },
  {
   "cell_type": "markdown",
   "metadata": {
    "id": "uqd3qNtxS939"
   },
   "source": [
    "**Metode Newton-Raphson**"
   ]
  },
  {
   "cell_type": "code",
   "execution_count": 5,
   "metadata": {
    "id": "NWM7-9tpVr0a"
   },
   "outputs": [],
   "source": [
    "import numpy as np #panggil library\n",
    "def my_newton(f, df, x0, e):\n",
    "# output is an estimation of the root of f\n",
    "# using the Newton-Raphson method\n",
    "# recursive implementation\n",
    "  if abs(f(x0)) < e:\n",
    "    return x0\n",
    "  else:\n",
    "    return my_newton(f, df, x0 - f(x0)/df(x0), e)"
   ]
  },
  {
   "cell_type": "markdown",
   "metadata": {
    "id": "ffztAnc9ZbtI"
   },
   "source": [
    "**Contoh Pencarian Akar dengan Metode Newton Raphson**\n",
    "\n",
    "f(x)=x^2 - 2"
   ]
  },
  {
   "cell_type": "code",
   "execution_count": 15,
   "metadata": {
    "colab": {
     "base_uri": "https://localhost:8080/"
    },
    "id": "zFJnxIytZhln",
    "outputId": "e6d71caf-ed8a-4bd9-8946-7e39709d49c1"
   },
   "outputs": [
    {
     "name": "stdout",
     "output_type": "stream",
     "text": [
      "estimate = 1.4142135623746899\n",
      "sqrt(2) = 1.4142135623730951\n"
     ]
    }
   ],
   "source": [
    "f = lambda x: x**2-2\n",
    "f_prime = lambda x: 2*x\n",
    "estimate = my_newton(f, f_prime, 1.5, 1e-6)\n",
    "print(\"estimate =\", estimate)\n",
    "print(\"sqrt(2) =\",np.sqrt(2))"
   ]
  },
  {
   "cell_type": "markdown",
   "metadata": {
    "id": "_l79MbNaaO9N"
   },
   "source": [
    "# **Latihan**"
   ]
  },
  {
   "cell_type": "markdown",
   "metadata": {
    "id": "XX6f9MQOaTas"
   },
   "source": [
    "**No.1**\n",
    "Buatlah sebuah fungsi penyelesaian yang tepat baik dengan menggunakan metode Bagi Dua maupun Newton Raphson ketika \n",
    "\n",
    "a. f(x) = x^3 - 2x + 1\n",
    "\n",
    "b. f(x) = e^x - x\n",
    "\n",
    "**No 2**\n",
    "\n",
    "Buatlah modifikasi fungsi ketika kriteria program berhenti adalah sudah mencapai pada iterasi ke-n baik untuk Bagi Dua maupun Newton Raphson"
   ]
  },
  {
   "cell_type": "markdown",
   "metadata": {},
   "source": [
    "**No.1**\n",
    "**a. f(x) = x^3 - 2x + 1** \n",
    "(Metode Bagi Dua)"
   ]
  },
  {
   "cell_type": "code",
   "execution_count": 61,
   "metadata": {
    "id": "MjocESJra-b5"
   },
   "outputs": [
    {
     "name": "stdout",
     "output_type": "stream",
     "text": [
      "r1 = 0.5\n",
      "f(r1) = 0.125\n"
     ]
    }
   ],
   "source": [
    "#Metode bagi dua f(x) = x^3 - 2x + 1 \n",
    "import numpy as np #panggil library\n",
    "\n",
    "f = lambda x: x**3-2*x+1\n",
    "\n",
    "r1 = my_bisection(f, 0, 1, 0.2)\n",
    "print(\"r1 =\", r1)\n",
    "print(\"f(r1) =\", f(r1))"
   ]
  },
  {
   "cell_type": "markdown",
   "metadata": {},
   "source": [
    "(Metode Newton Raphson)"
   ]
  },
  {
   "cell_type": "code",
   "execution_count": 43,
   "metadata": {},
   "outputs": [
    {
     "name": "stdout",
     "output_type": "stream",
     "text": [
      "estimate = 1.0000005416073046\n",
      "sqrt(2) = 1.4142135623730951\n"
     ]
    }
   ],
   "source": [
    "#Metode Newton Raphson f(x) = x^3 - 2x + 1 \n",
    "import numpy as np #panggil library\n",
    "\n",
    "f = lambda x: x**3-2*x+1\n",
    "f_prime = lambda x: 2*x\n",
    "estimate = my_newton(f, f_prime, 1.5, 1e-6)\n",
    "print(\"estimate =\", estimate)\n",
    "print(\"sqrt(2) =\",np.sqrt(2))"
   ]
  },
  {
   "cell_type": "markdown",
   "metadata": {},
   "source": [
    "**b. f(x) = e^x - x**\n",
    "(Metode Bagi Dua)"
   ]
  },
  {
   "cell_type": "code",
   "execution_count": 63,
   "metadata": {},
   "outputs": [
    {
     "ename": "Exception",
     "evalue": "Tidak ada akar pada interval a dan b",
     "output_type": "error",
     "traceback": [
      "\u001b[0;31m---------------------------------------------------------------------------\u001b[0m",
      "\u001b[0;31mException\u001b[0m                                 Traceback (most recent call last)",
      "Cell \u001b[0;32mIn [63], line 7\u001b[0m\n\u001b[1;32m      4\u001b[0m \u001b[38;5;28;01mimport\u001b[39;00m \u001b[38;5;21;01mmath\u001b[39;00m\n\u001b[1;32m      6\u001b[0m f \u001b[38;5;241m=\u001b[39m \u001b[38;5;28;01mlambda\u001b[39;00m x: math\u001b[38;5;241m.\u001b[39mexp(x) \u001b[38;5;241m-\u001b[39m x\n\u001b[0;32m----> 7\u001b[0m r1 \u001b[38;5;241m=\u001b[39m \u001b[43mmy_bisection\u001b[49m\u001b[43m(\u001b[49m\u001b[43mf\u001b[49m\u001b[43m,\u001b[49m\u001b[43m \u001b[49m\u001b[38;5;241;43m0\u001b[39;49m\u001b[43m,\u001b[49m\u001b[43m \u001b[49m\u001b[38;5;241;43m1\u001b[39;49m\u001b[43m,\u001b[49m\u001b[43m \u001b[49m\u001b[38;5;241;43m0.2\u001b[39;49m\u001b[43m)\u001b[49m\n\u001b[1;32m      8\u001b[0m \u001b[38;5;28mprint\u001b[39m(\u001b[38;5;124m\"\u001b[39m\u001b[38;5;124mr1 =\u001b[39m\u001b[38;5;124m\"\u001b[39m, r1)\n\u001b[1;32m      9\u001b[0m \u001b[38;5;28mprint\u001b[39m(\u001b[38;5;124m\"\u001b[39m\u001b[38;5;124mf(r1) =\u001b[39m\u001b[38;5;124m\"\u001b[39m, f(r1))\n",
      "Cell \u001b[0;32mIn [40], line 5\u001b[0m, in \u001b[0;36mmy_bisection\u001b[0;34m(f, a, b, e)\u001b[0m\n\u001b[1;32m      3\u001b[0m \u001b[38;5;28;01mdef\u001b[39;00m \u001b[38;5;21mmy_bisection\u001b[39m(f, a, b, e):\n\u001b[1;32m      4\u001b[0m   \u001b[38;5;28;01mif\u001b[39;00m np\u001b[38;5;241m.\u001b[39msign(f(a)) \u001b[38;5;241m==\u001b[39m np\u001b[38;5;241m.\u001b[39msign(f(b)):\n\u001b[0;32m----> 5\u001b[0m     \u001b[38;5;28;01mraise\u001b[39;00m \u001b[38;5;167;01mException\u001b[39;00m(\u001b[38;5;124m'\u001b[39m\u001b[38;5;124mTidak ada akar pada interval a dan b\u001b[39m\u001b[38;5;124m'\u001b[39m)\n\u001b[1;32m      6\u001b[0m   m \u001b[38;5;241m=\u001b[39m (a \u001b[38;5;241m+\u001b[39m b)\u001b[38;5;241m/\u001b[39m\u001b[38;5;241m2\u001b[39m\n\u001b[1;32m      7\u001b[0m   \u001b[38;5;28;01mif\u001b[39;00m np\u001b[38;5;241m.\u001b[39mabs(f(m)) \u001b[38;5;241m<\u001b[39m e:\n",
      "\u001b[0;31mException\u001b[0m: Tidak ada akar pada interval a dan b"
     ]
    }
   ],
   "source": [
    "#Metode Bagi Dua f(x) = e^x - x\n",
    "\n",
    "import numpy as np\n",
    "import math\n",
    "\n",
    "f = lambda x: math.exp(x) - x\n",
    "r1 = my_bisection(f, 0, 1, 0.2)\n",
    "print(\"r1 =\", r1)\n",
    "print(\"f(r1) =\", f(r1))"
   ]
  },
  {
   "cell_type": "markdown",
   "metadata": {},
   "source": [
    "(Metode Newton Raphson)"
   ]
  },
  {
   "cell_type": "code",
   "execution_count": 70,
   "metadata": {},
   "outputs": [
    {
     "ename": "RecursionError",
     "evalue": "maximum recursion depth exceeded while calling a Python object",
     "output_type": "error",
     "traceback": [
      "\u001b[0;31m---------------------------------------------------------------------------\u001b[0m",
      "\u001b[0;31mRecursionError\u001b[0m                            Traceback (most recent call last)",
      "Cell \u001b[0;32mIn [70], line 6\u001b[0m\n\u001b[1;32m      4\u001b[0m f \u001b[38;5;241m=\u001b[39m \u001b[38;5;28;01mlambda\u001b[39;00m x: math\u001b[38;5;241m.\u001b[39mexp(x)\u001b[38;5;241m-\u001b[39mx\n\u001b[1;32m      5\u001b[0m f_prime \u001b[38;5;241m=\u001b[39m \u001b[38;5;28;01mlambda\u001b[39;00m x:\u001b[38;5;241m2\u001b[39m\u001b[38;5;241m*\u001b[39mx\n\u001b[0;32m----> 6\u001b[0m estimate \u001b[38;5;241m=\u001b[39m \u001b[43mmy_newton\u001b[49m\u001b[43m(\u001b[49m\u001b[43mf\u001b[49m\u001b[43m,\u001b[49m\u001b[43m \u001b[49m\u001b[43mf_prime\u001b[49m\u001b[43m,\u001b[49m\u001b[43m \u001b[49m\u001b[38;5;241;43m1.5\u001b[39;49m\u001b[43m,\u001b[49m\u001b[43m \u001b[49m\u001b[38;5;241;43m1e-6\u001b[39;49m\u001b[43m)\u001b[49m\n\u001b[1;32m      7\u001b[0m \u001b[38;5;28mprint\u001b[39m(\u001b[38;5;124m\"\u001b[39m\u001b[38;5;124mestimate =\u001b[39m\u001b[38;5;124m\"\u001b[39m, estimate)\n\u001b[1;32m      8\u001b[0m \u001b[38;5;28mprint\u001b[39m(\u001b[38;5;124m\"\u001b[39m\u001b[38;5;124msqrt(2) =\u001b[39m\u001b[38;5;124m\"\u001b[39m, no,sqrt(\u001b[38;5;241m2\u001b[39m))\n",
      "Cell \u001b[0;32mIn [41], line 10\u001b[0m, in \u001b[0;36mmy_newton\u001b[0;34m(f, df, x0, e)\u001b[0m\n\u001b[1;32m      8\u001b[0m   \u001b[38;5;28;01mreturn\u001b[39;00m x0\n\u001b[1;32m      9\u001b[0m \u001b[38;5;28;01melse\u001b[39;00m:\n\u001b[0;32m---> 10\u001b[0m   \u001b[38;5;28;01mreturn\u001b[39;00m \u001b[43mmy_newton\u001b[49m\u001b[43m(\u001b[49m\u001b[43mf\u001b[49m\u001b[43m,\u001b[49m\u001b[43m \u001b[49m\u001b[43mdf\u001b[49m\u001b[43m,\u001b[49m\u001b[43m \u001b[49m\u001b[43mx0\u001b[49m\u001b[43m \u001b[49m\u001b[38;5;241;43m-\u001b[39;49m\u001b[43m \u001b[49m\u001b[43mf\u001b[49m\u001b[43m(\u001b[49m\u001b[43mx0\u001b[49m\u001b[43m)\u001b[49m\u001b[38;5;241;43m/\u001b[39;49m\u001b[43mdf\u001b[49m\u001b[43m(\u001b[49m\u001b[43mx0\u001b[49m\u001b[43m)\u001b[49m\u001b[43m,\u001b[49m\u001b[43m \u001b[49m\u001b[43me\u001b[49m\u001b[43m)\u001b[49m\n",
      "Cell \u001b[0;32mIn [41], line 10\u001b[0m, in \u001b[0;36mmy_newton\u001b[0;34m(f, df, x0, e)\u001b[0m\n\u001b[1;32m      8\u001b[0m   \u001b[38;5;28;01mreturn\u001b[39;00m x0\n\u001b[1;32m      9\u001b[0m \u001b[38;5;28;01melse\u001b[39;00m:\n\u001b[0;32m---> 10\u001b[0m   \u001b[38;5;28;01mreturn\u001b[39;00m \u001b[43mmy_newton\u001b[49m\u001b[43m(\u001b[49m\u001b[43mf\u001b[49m\u001b[43m,\u001b[49m\u001b[43m \u001b[49m\u001b[43mdf\u001b[49m\u001b[43m,\u001b[49m\u001b[43m \u001b[49m\u001b[43mx0\u001b[49m\u001b[43m \u001b[49m\u001b[38;5;241;43m-\u001b[39;49m\u001b[43m \u001b[49m\u001b[43mf\u001b[49m\u001b[43m(\u001b[49m\u001b[43mx0\u001b[49m\u001b[43m)\u001b[49m\u001b[38;5;241;43m/\u001b[39;49m\u001b[43mdf\u001b[49m\u001b[43m(\u001b[49m\u001b[43mx0\u001b[49m\u001b[43m)\u001b[49m\u001b[43m,\u001b[49m\u001b[43m \u001b[49m\u001b[43me\u001b[49m\u001b[43m)\u001b[49m\n",
      "    \u001b[0;31m[... skipping similar frames: my_newton at line 10 (2968 times)]\u001b[0m\n",
      "Cell \u001b[0;32mIn [41], line 10\u001b[0m, in \u001b[0;36mmy_newton\u001b[0;34m(f, df, x0, e)\u001b[0m\n\u001b[1;32m      8\u001b[0m   \u001b[38;5;28;01mreturn\u001b[39;00m x0\n\u001b[1;32m      9\u001b[0m \u001b[38;5;28;01melse\u001b[39;00m:\n\u001b[0;32m---> 10\u001b[0m   \u001b[38;5;28;01mreturn\u001b[39;00m \u001b[43mmy_newton\u001b[49m\u001b[43m(\u001b[49m\u001b[43mf\u001b[49m\u001b[43m,\u001b[49m\u001b[43m \u001b[49m\u001b[43mdf\u001b[49m\u001b[43m,\u001b[49m\u001b[43m \u001b[49m\u001b[43mx0\u001b[49m\u001b[43m \u001b[49m\u001b[38;5;241;43m-\u001b[39;49m\u001b[43m \u001b[49m\u001b[43mf\u001b[49m\u001b[43m(\u001b[49m\u001b[43mx0\u001b[49m\u001b[43m)\u001b[49m\u001b[38;5;241;43m/\u001b[39;49m\u001b[43mdf\u001b[49m\u001b[43m(\u001b[49m\u001b[43mx0\u001b[49m\u001b[43m)\u001b[49m\u001b[43m,\u001b[49m\u001b[43m \u001b[49m\u001b[43me\u001b[49m\u001b[43m)\u001b[49m\n",
      "Cell \u001b[0;32mIn [41], line 7\u001b[0m, in \u001b[0;36mmy_newton\u001b[0;34m(f, df, x0, e)\u001b[0m\n\u001b[1;32m      3\u001b[0m \u001b[38;5;28;01mdef\u001b[39;00m \u001b[38;5;21mmy_newton\u001b[39m(f, df, x0, e):\n\u001b[1;32m      4\u001b[0m \u001b[38;5;66;03m# output is an estimation of the root of f\u001b[39;00m\n\u001b[1;32m      5\u001b[0m \u001b[38;5;66;03m# using the Newton-Raphson method\u001b[39;00m\n\u001b[1;32m      6\u001b[0m \u001b[38;5;66;03m# recursive implementation\u001b[39;00m\n\u001b[0;32m----> 7\u001b[0m   \u001b[38;5;28;01mif\u001b[39;00m \u001b[38;5;28mabs\u001b[39m(\u001b[43mf\u001b[49m\u001b[43m(\u001b[49m\u001b[43mx0\u001b[49m\u001b[43m)\u001b[49m) \u001b[38;5;241m<\u001b[39m e:\n\u001b[1;32m      8\u001b[0m     \u001b[38;5;28;01mreturn\u001b[39;00m x0\n\u001b[1;32m      9\u001b[0m   \u001b[38;5;28;01melse\u001b[39;00m:\n",
      "Cell \u001b[0;32mIn [70], line 4\u001b[0m, in \u001b[0;36m<lambda>\u001b[0;34m(x)\u001b[0m\n\u001b[1;32m      1\u001b[0m \u001b[38;5;66;03m#Metode Newton Raphson f(x) = e^x - x\u001b[39;00m\n\u001b[1;32m      3\u001b[0m \u001b[38;5;28;01mimport\u001b[39;00m \u001b[38;5;21;01mmath\u001b[39;00m\n\u001b[0;32m----> 4\u001b[0m f \u001b[38;5;241m=\u001b[39m \u001b[38;5;28;01mlambda\u001b[39;00m x: \u001b[43mmath\u001b[49m\u001b[38;5;241;43m.\u001b[39;49m\u001b[43mexp\u001b[49m\u001b[43m(\u001b[49m\u001b[43mx\u001b[49m\u001b[43m)\u001b[49m\u001b[38;5;241m-\u001b[39mx\n\u001b[1;32m      5\u001b[0m f_prime \u001b[38;5;241m=\u001b[39m \u001b[38;5;28;01mlambda\u001b[39;00m x:\u001b[38;5;241m2\u001b[39m\u001b[38;5;241m*\u001b[39mx\n\u001b[1;32m      6\u001b[0m estimate \u001b[38;5;241m=\u001b[39m my_newton(f, f_prime, \u001b[38;5;241m1.5\u001b[39m, \u001b[38;5;241m1e-6\u001b[39m)\n",
      "\u001b[0;31mRecursionError\u001b[0m: maximum recursion depth exceeded while calling a Python object"
     ]
    }
   ],
   "source": [
    "#Metode Newton Raphson f(x) = e^x - x\n",
    "\n",
    "import math\n",
    "f = lambda x: math.exp(x)-x\n",
    "f_prime = lambda x:2*x\n",
    "estimate = my_newton(f, f_prime, 1.5, 1e-6)\n",
    "print(\"estimate =\", estimate)\n",
    "print(\"sqrt(2) =\", no,sqrt(2))"
   ]
  },
  {
   "cell_type": "markdown",
   "metadata": {},
   "source": [
    "**No 2**\n",
    "\n",
    "Buatlah modifikasi fungsi ketika kriteria program berhenti adalah sudah mencapai pada iterasi ke-n baik untuk Bagi Dua maupun Newton Raphson"
   ]
  },
  {
   "cell_type": "code",
   "execution_count": null,
   "metadata": {},
   "outputs": [],
   "source": [
    "(Metode Bagi Dua)"
   ]
  },
  {
   "cell_type": "code",
   "execution_count": 91,
   "metadata": {},
   "outputs": [
    {
     "name": "stdout",
     "output_type": "stream",
     "text": [
      "Metode Bagi Dua\n",
      "Iterasi ke-1, x2 = 2.500 dan f(x2) = -5.875\n",
      "Iterasi ke-2, x2 = 2.750 dan f(x2) = -1.953\n",
      "Iterasi ke-3, x2 = 2.875 dan f(x2) = 0.389\n",
      "Iterasi ke-4, x2 = 2.812 dan f(x2) = -0.815\n",
      "Iterasi ke-5, x2 = 2.844 dan f(x2) = -0.222\n",
      "Iterasi ke-6, x2 = 2.859 dan f(x2) = 0.081\n",
      "Iterasi ke-7, x2 = 2.852 dan f(x2) = -0.071\n",
      "Iterasi ke-8, x2 = 2.855 dan f(x2) = 0.005\n",
      "\n",
      "Akarnya adalah : 2.855\n"
     ]
    }
   ],
   "source": [
    "#Metode Bagi Dua  \n",
    "def bisection(x0, x1, e):\n",
    "    step = 1\n",
    "    print('Metode Bagi Dua')\n",
    "    condition = True\n",
    "    while condition:\n",
    "        x2 = (x0 + x1)/2\n",
    "        print('Iterasi ke-%d, x2 = %0.3f dan f(x2) = %0.3f' % (step, x2, f(x2)))\n",
    "\n",
    "        if f(x0) * f(x2) < 0:\n",
    "            x1 = x2\n",
    "        else:\n",
    "            x0 = x2\n",
    "        \n",
    "        step = step + 1\n",
    "        condition = (abs(f(x2)) > e)and(step<=8) #loop berhenti ketika iterasi sudah ke-4\n",
    "\n",
    "    print('\\nAkarnya adalah : %0.3f' % x2)\n",
    "\n",
    "def f(x):\n",
    "    return x**3-5*x-9\n",
    "\n",
    "x0 = 2\n",
    "x1 = 3\n",
    "e = 0.0001\n",
    "    \n",
    "if f(x0) * f(x1) > 0.0:\n",
    "    print('Akar tidak ditemukan.')\n",
    "else:\n",
    "    bisection(x0,x1,e)"
   ]
  },
  {
   "cell_type": "markdown",
   "metadata": {},
   "source": [
    "(Metode Newton Raphson)"
   ]
  },
  {
   "cell_type": "code",
   "execution_count": 85,
   "metadata": {},
   "outputs": [
    {
     "name": "stdout",
     "output_type": "stream",
     "text": [
      "Metode Newton Raphson\n",
      "Iterasi ke-1, x1 = 3.571 dan f(x1) = 18.697\n",
      "\n",
      "Akar = 3.571\n",
      "Iterasi ke-2, x1 = 3.009 dan f(x1) = 3.207\n",
      "\n",
      "Akar = 3.009\n",
      "Iterasi ke-3, x1 = 2.865 dan f(x1) = 0.186\n",
      "\n",
      "Akar = 2.865\n",
      "Iterasi ke-4, x1 = 2.855 dan f(x1) = 0.001\n"
     ]
    }
   ],
   "source": [
    "#Metode Newton Raphson\n",
    "def f(x):\n",
    "    return x**3-5*x-9\n",
    "def g(x):\n",
    "    return 3*x**2-5\n",
    "\n",
    "def newtonRaphson(x0,e,maxInter):\n",
    "    print('Metode Newton Raphson')\n",
    "    step = 1\n",
    "    flag = 1\n",
    "    condition = True\n",
    "    while condition:\n",
    "        if g(x0) == 0.0:\n",
    "            print('Dibagi nol=error!')\n",
    "            break\n",
    "        \n",
    "        x1 = x0 - f(x0)/g(x0)\n",
    "        print('Iterasi ke-%d, x1 = %0.3f dan f(x1) = %0.3f' % (step, x1, f(x1)))\n",
    "        x0 = x1\n",
    "        step = step + 1\n",
    "        \n",
    "        if step > maxInter:\n",
    "            flag = 0\n",
    "            break\n",
    "        \n",
    "        condition = abs(f(x1)) > e\n",
    "\n",
    "        if flag==1:\n",
    "          print('\\nAkar = %0.3f' % x1)\n",
    "        else:\n",
    "            print('\\nTidak Konvergen.')\n",
    "\n",
    "x0 = 2\n",
    "e = 0.0001\n",
    "maxInter = 4\n",
    "\n",
    "newtonRaphson(x0,e,maxInter)"
   ]
  },
  {
   "cell_type": "code",
   "execution_count": null,
   "metadata": {},
   "outputs": [],
   "source": []
  }
 ],
 "metadata": {
  "colab": {
   "provenance": []
  },
  "kernelspec": {
   "display_name": "Python 3 (ipykernel)",
   "language": "python",
   "name": "python3"
  },
  "language_info": {
   "codemirror_mode": {
    "name": "ipython",
    "version": 3
   },
   "file_extension": ".py",
   "mimetype": "text/x-python",
   "name": "python",
   "nbconvert_exporter": "python",
   "pygments_lexer": "ipython3",
   "version": "3.10.6"
  }
 },
 "nbformat": 4,
 "nbformat_minor": 4
}
