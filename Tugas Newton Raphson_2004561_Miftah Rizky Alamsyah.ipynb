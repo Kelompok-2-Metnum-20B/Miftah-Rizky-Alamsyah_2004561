{
 "cells": [
  {
   "cell_type": "markdown",
   "id": "c94392f2-8e53-4dc4-97b1-8320fc607f0f",
   "metadata": {},
   "source": [
    "## **Tugas Newton Raphson**\n",
    "Nama : Miftah Rizky Alamsyah, \n",
    "NIM : 2004561\n",
    "\n",
    "3. Eksplorasi pembuatan kode program untuk metode Newton Raphson\n",
    "f(x) = x^2 - 2x - 8\n",
    "Dengan nilai inisiasi awal 3.75"
   ]
  },
  {
   "cell_type": "code",
   "execution_count": 4,
   "id": "5cf027b8-ae09-4980-94f0-647ef168c84d",
   "metadata": {},
   "outputs": [
    {
     "name": "stdout",
     "output_type": "stream",
     "text": [
      "Metode Newton Raphson\n",
      "Iterasi ke-1, x0 = 3.750, x1 = 4.011 dan f(x1) = 0.068\n",
      "\n",
      "Akar = 4.011\n",
      "Iterasi ke-2, x0 = 4.011, x1 = 4.000 dan f(x1) = 0.000\n",
      "\n",
      "Akar = 4.000\n",
      "Iterasi ke-3, x0 = 4.000, x1 = 4.000 dan f(x1) = 0.000\n"
     ]
    }
   ],
   "source": [
    "#Metode Newton Raphson\n",
    "def f(x):\n",
    "    return x**2-2*x-8\n",
    "def g(x):\n",
    "    return 2*x-2\n",
    "\n",
    "def newtonRaphson(x0,e,maxInter):\n",
    "    print('Metode Newton Raphson')\n",
    "    step = 1\n",
    "    flag = 1\n",
    "    condition = True\n",
    "    while condition:\n",
    "        if g(x0) == 0.0:\n",
    "            print('Dibagi nol=error!')\n",
    "            break\n",
    "        \n",
    "        x1 = x0 - f(x0)/g(x0)\n",
    "        print('Iterasi ke-%d, x0 = %0.3f, x1 = %0.3f dan f(x1) = %0.3f' % (step, x0, x1, f(x1)))\n",
    "        x0 = x1\n",
    "        step = step + 1\n",
    "        \n",
    "        if step > maxInter:\n",
    "            flag = 0\n",
    "            break\n",
    "        \n",
    "        condition = abs(f(x1)) > e\n",
    "\n",
    "        if flag==1:\n",
    "          print('\\nAkar = %0.3f' % x1)\n",
    "        else:\n",
    "            print('\\nTidak Konvergen.')\n",
    "\n",
    "x0 = 3.75\n",
    "e = 0.0001\n",
    "maxInter = 3\n",
    "\n",
    "newtonRaphson(x0,e,maxInter)"
   ]
  },
  {
   "cell_type": "code",
   "execution_count": null,
   "id": "301975af-847f-41cf-9793-9dd052a59353",
   "metadata": {},
   "outputs": [],
   "source": []
  }
 ],
 "metadata": {
  "kernelspec": {
   "display_name": "Python 3 (ipykernel)",
   "language": "python",
   "name": "python3"
  },
  "language_info": {
   "codemirror_mode": {
    "name": "ipython",
    "version": 3
   },
   "file_extension": ".py",
   "mimetype": "text/x-python",
   "name": "python",
   "nbconvert_exporter": "python",
   "pygments_lexer": "ipython3",
   "version": "3.10.6"
  }
 },
 "nbformat": 4,
 "nbformat_minor": 5
}
